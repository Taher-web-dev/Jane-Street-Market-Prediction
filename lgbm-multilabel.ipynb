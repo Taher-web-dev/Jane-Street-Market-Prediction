{
 "cells": [
  {
   "cell_type": "code",
   "execution_count": 1,
   "metadata": {
    "_cell_guid": "b1076dfc-b9ad-4769-8c92-a6c4dae69d19",
    "_uuid": "8f2839f25d086af736a60e9eeb907d3b93b6e0e5",
    "execution": {
     "iopub.execute_input": "2021-02-13T17:09:15.902917Z",
     "iopub.status.busy": "2021-02-13T17:09:15.901885Z",
     "iopub.status.idle": "2021-02-13T17:09:15.941230Z",
     "shell.execute_reply": "2021-02-13T17:09:15.942042Z"
    },
    "papermill": {
     "duration": 0.053889,
     "end_time": "2021-02-13T17:09:15.942489",
     "exception": false,
     "start_time": "2021-02-13T17:09:15.888600",
     "status": "completed"
    },
    "tags": []
   },
   "outputs": [
    {
     "name": "stdout",
     "output_type": "stream",
     "text": [
      "/kaggle/input/eda-missing-values-tsne-clustering-class-imb/weights_1\n",
      "/kaggle/input/eda-missing-values-tsne-clustering-class-imb/weights_2\n",
      "/kaggle/input/eda-missing-values-tsne-clustering-class-imb/__results__.html\n",
      "/kaggle/input/eda-missing-values-tsne-clustering-class-imb/features_names\n",
      "/kaggle/input/eda-missing-values-tsne-clustering-class-imb/submission.csv\n",
      "/kaggle/input/eda-missing-values-tsne-clustering-class-imb/__resultx__.html\n",
      "/kaggle/input/eda-missing-values-tsne-clustering-class-imb/weights_0\n",
      "/kaggle/input/eda-missing-values-tsne-clustering-class-imb/__notebook__.ipynb\n",
      "/kaggle/input/eda-missing-values-tsne-clustering-class-imb/__output__.json\n",
      "/kaggle/input/eda-missing-values-tsne-clustering-class-imb/features_imputation\n",
      "/kaggle/input/eda-missing-values-tsne-clustering-class-imb/custom.css\n",
      "/kaggle/input/eda-missing-values-tsne-clustering-class-imb/__results___files/__results___80_0.png\n",
      "/kaggle/input/eda-missing-values-tsne-clustering-class-imb/__results___files/__results___15_0.png\n",
      "/kaggle/input/eda-missing-values-tsne-clustering-class-imb/__results___files/__results___53_1.png\n",
      "/kaggle/input/eda-missing-values-tsne-clustering-class-imb/__results___files/__results___30_2.png\n",
      "/kaggle/input/eda-missing-values-tsne-clustering-class-imb/__results___files/__results___59_0.png\n",
      "/kaggle/input/eda-missing-values-tsne-clustering-class-imb/__results___files/__results___56_0.png\n",
      "/kaggle/input/eda-missing-values-tsne-clustering-class-imb/__results___files/__results___43_1.png\n",
      "/kaggle/input/eda-missing-values-tsne-clustering-class-imb/__results___files/__results___22_1.png\n",
      "/kaggle/input/eda-missing-values-tsne-clustering-class-imb/__results___files/__results___28_0.png\n",
      "/kaggle/input/jane-street-market-prediction/example_sample_submission.csv\n",
      "/kaggle/input/jane-street-market-prediction/features.csv\n",
      "/kaggle/input/jane-street-market-prediction/example_test.csv\n",
      "/kaggle/input/jane-street-market-prediction/train.csv\n",
      "/kaggle/input/jane-street-market-prediction/janestreet/competition.cpython-37m-x86_64-linux-gnu.so\n",
      "/kaggle/input/jane-street-market-prediction/janestreet/__init__.py\n"
     ]
    }
   ],
   "source": [
    "# This Python 3 environment comes with many helpful analytics libraries installed\n",
    "# It is defined by the kaggle/python Docker image: https://github.com/kaggle/docker-python\n",
    "# For example, here's several helpful packages to load\n",
    "\n",
    "import numpy as np # linear algebra\n",
    "import pandas as pd # data processing, CSV file I/O (e.g. pd.read_csv)\n",
    "\n",
    "# Input data files are available in the read-only \"../input/\" directory\n",
    "# For example, running this (by clicking run or pressing Shift+Enter) will list all files under the input directory\n",
    "\n",
    "import os\n",
    "for dirname, _, filenames in os.walk('/kaggle/input'):\n",
    "    for filename in filenames:\n",
    "        print(os.path.join(dirname, filename))\n",
    "\n",
    "# You can write up to 20GB to the current directory (/kaggle/working/) that gets preserved as output when you create a version using \"Save & Run All\" \n",
    "# You can also write temporary files to /kaggle/temp/, but they won't be saved outside of the current session"
   ]
  },
  {
   "cell_type": "code",
   "execution_count": 2,
   "metadata": {
    "execution": {
     "iopub.execute_input": "2021-02-13T17:09:15.970871Z",
     "iopub.status.busy": "2021-02-13T17:09:15.970013Z",
     "iopub.status.idle": "2021-02-13T17:09:23.406848Z",
     "shell.execute_reply": "2021-02-13T17:09:23.406263Z"
    },
    "papermill": {
     "duration": 7.453391,
     "end_time": "2021-02-13T17:09:23.407003",
     "exception": false,
     "start_time": "2021-02-13T17:09:15.953612",
     "status": "completed"
    },
    "tags": []
   },
   "outputs": [
    {
     "data": {
      "text/html": [
       "<style type='text/css'>\n",
       ".datatable table.frame { margin-bottom: 0; }\n",
       ".datatable table.frame thead { border-bottom: none; }\n",
       ".datatable table.frame tr.coltypes td {  color: #FFFFFF;  line-height: 6px;  padding: 0 0.5em;}\n",
       ".datatable .bool    { background: #DDDD99; }\n",
       ".datatable .object  { background: #565656; }\n",
       ".datatable .int     { background: #5D9E5D; }\n",
       ".datatable .float   { background: #4040CC; }\n",
       ".datatable .str     { background: #CC4040; }\n",
       ".datatable .row_index {  background: var(--jp-border-color3);  border-right: 1px solid var(--jp-border-color0);  color: var(--jp-ui-font-color3);  font-size: 9px;}\n",
       ".datatable .frame tr.coltypes .row_index {  background: var(--jp-border-color0);}\n",
       ".datatable th:nth-child(2) { padding-left: 12px; }\n",
       ".datatable .hellipsis {  color: var(--jp-cell-editor-border-color);}\n",
       ".datatable .vellipsis {  background: var(--jp-layout-color0);  color: var(--jp-cell-editor-border-color);}\n",
       ".datatable .na {  color: var(--jp-cell-editor-border-color);  font-size: 80%;}\n",
       ".datatable .footer { font-size: 9px; }\n",
       ".datatable .frame_dimensions {  background: var(--jp-border-color3);  border-top: 1px solid var(--jp-border-color0);  color: var(--jp-ui-font-color3);  display: inline-block;  opacity: 0.6;  padding: 1px 10px 1px 5px;}\n",
       "</style>\n"
      ],
      "text/plain": [
       "<IPython.core.display.HTML object>"
      ]
     },
     "metadata": {},
     "output_type": "display_data"
    }
   ],
   "source": [
    "import random\n",
    "from tensorflow.keras.layers import Input, Dense, BatchNormalization, Dropout, Concatenate, Lambda, GaussianNoise, Activation\n",
    "from tensorflow.keras.models import Model, Sequential\n",
    "from tensorflow.keras.losses import BinaryCrossentropy\n",
    "from tensorflow.keras.optimizers import Adam\n",
    "from tensorflow.keras.callbacks import EarlyStopping\n",
    "from tensorflow.keras.layers.experimental.preprocessing import Normalization\n",
    "import tensorflow as tf\n",
    "import numpy as np\n",
    "import pandas as pd\n",
    "from tqdm import tqdm\n",
    "from random import choices\n",
    "from sklearn.model_selection import train_test_split\n",
    "import lightgbm as lgbm\n",
    "import pickle"
   ]
  },
  {
   "cell_type": "code",
   "execution_count": 3,
   "metadata": {
    "execution": {
     "iopub.execute_input": "2021-02-13T17:09:23.432891Z",
     "iopub.status.busy": "2021-02-13T17:09:23.432169Z",
     "iopub.status.idle": "2021-02-13T17:09:23.435628Z",
     "shell.execute_reply": "2021-02-13T17:09:23.435020Z"
    },
    "papermill": {
     "duration": 0.018723,
     "end_time": "2021-02-13T17:09:23.435790",
     "exception": false,
     "start_time": "2021-02-13T17:09:23.417067",
     "status": "completed"
    },
    "tags": []
   },
   "outputs": [],
   "source": [
    "def load_pickle(fich):\n",
    "    with open(fich,\"rb\") as f :\n",
    "        contenu = pickle.load(f)\n",
    "    return contenu"
   ]
  },
  {
   "cell_type": "code",
   "execution_count": 4,
   "metadata": {
    "execution": {
     "iopub.execute_input": "2021-02-13T17:09:23.459879Z",
     "iopub.status.busy": "2021-02-13T17:09:23.458871Z",
     "iopub.status.idle": "2021-02-13T17:09:23.463428Z",
     "shell.execute_reply": "2021-02-13T17:09:23.463928Z"
    },
    "papermill": {
     "duration": 0.018202,
     "end_time": "2021-02-13T17:09:23.464112",
     "exception": false,
     "start_time": "2021-02-13T17:09:23.445910",
     "status": "completed"
    },
    "tags": []
   },
   "outputs": [],
   "source": [
    "path = \"../input/eda-missing-values-tsne-clustering-class-imb\""
   ]
  },
  {
   "cell_type": "code",
   "execution_count": 5,
   "metadata": {
    "execution": {
     "iopub.execute_input": "2021-02-13T17:09:23.489483Z",
     "iopub.status.busy": "2021-02-13T17:09:23.488461Z",
     "iopub.status.idle": "2021-02-13T17:09:23.491722Z",
     "shell.execute_reply": "2021-02-13T17:09:23.492191Z"
    },
    "papermill": {
     "duration": 0.018072,
     "end_time": "2021-02-13T17:09:23.492375",
     "exception": false,
     "start_time": "2021-02-13T17:09:23.474303",
     "status": "completed"
    },
    "tags": []
   },
   "outputs": [],
   "source": [
    "SEED = 1111"
   ]
  },
  {
   "cell_type": "code",
   "execution_count": 6,
   "metadata": {
    "execution": {
     "iopub.execute_input": "2021-02-13T17:09:23.518840Z",
     "iopub.status.busy": "2021-02-13T17:09:23.517948Z",
     "iopub.status.idle": "2021-02-13T17:09:23.521053Z",
     "shell.execute_reply": "2021-02-13T17:09:23.520366Z"
    },
    "papermill": {
     "duration": 0.018565,
     "end_time": "2021-02-13T17:09:23.521291",
     "exception": false,
     "start_time": "2021-02-13T17:09:23.502726",
     "status": "completed"
    },
    "tags": []
   },
   "outputs": [],
   "source": [
    "random.seed(SEED)\n",
    "np.random.seed(SEED)\n",
    "tf.random.set_seed(SEED)"
   ]
  },
  {
   "cell_type": "code",
   "execution_count": 7,
   "metadata": {
    "execution": {
     "iopub.execute_input": "2021-02-13T17:09:23.549135Z",
     "iopub.status.busy": "2021-02-13T17:09:23.548408Z",
     "iopub.status.idle": "2021-02-13T17:12:16.257369Z",
     "shell.execute_reply": "2021-02-13T17:12:16.256508Z"
    },
    "papermill": {
     "duration": 172.725733,
     "end_time": "2021-02-13T17:12:16.257718",
     "exception": false,
     "start_time": "2021-02-13T17:09:23.531985",
     "status": "completed"
    },
    "tags": []
   },
   "outputs": [
    {
     "name": "stdout",
     "output_type": "stream",
     "text": [
      "load train start\n"
     ]
    },
    {
     "name": "stderr",
     "output_type": "stream",
     "text": [
      "/opt/conda/lib/python3.7/site-packages/numpy/lib/arraysetops.py:580: FutureWarning: elementwise comparison failed; returning scalar instead, but in the future will perform elementwise comparison\n",
      "  mask |= (ar1 == a)\n"
     ]
    },
    {
     "name": "stdout",
     "output_type": "stream",
     "text": [
      "load train end\n"
     ]
    }
   ],
   "source": [
    "print('load train start')\n",
    "try:\n",
    "    train = pd.read_parquet('train.parquet')\n",
    "except:\n",
    "    train = pd.read_csv('../input/jane-street-market-prediction/train.csv', index_col='ts_id')\n",
    "    train.to_parquet('train.parquet')\n",
    "print('load train end')"
   ]
  },
  {
   "cell_type": "code",
   "execution_count": 8,
   "metadata": {
    "execution": {
     "iopub.execute_input": "2021-02-13T17:12:21.807261Z",
     "iopub.status.busy": "2021-02-13T17:12:21.806205Z",
     "iopub.status.idle": "2021-02-13T17:12:29.019561Z",
     "shell.execute_reply": "2021-02-13T17:12:29.018890Z"
    },
    "papermill": {
     "duration": 12.749489,
     "end_time": "2021-02-13T17:12:29.019723",
     "exception": false,
     "start_time": "2021-02-13T17:12:16.270234",
     "status": "completed"
    },
    "tags": []
   },
   "outputs": [],
   "source": [
    "# train = pd.read_csv('../input/jane-street-market-prediction/train.csv')\n",
    "train = train.query('date > 85').reset_index(drop = True) \n",
    "train = train[train['weight'] != 0]\n",
    "\n",
    "train.fillna(train.mean(),inplace=True)\n",
    "\n",
    "train['action'] = ((train['resp'].values) > 0).astype(int)\n",
    "\n",
    "\n",
    "#features = [c for c in train.columns if \"feature\" in c]\n",
    "features = load_pickle(os.path.join(path,\"features_names\"))\n",
    "\n",
    "#f_mean = np.mean(train[features[1:]].values,axis=0)\n",
    "f_mean = load_pickle(os.path.join(path,\"features_imputation\"))\n",
    "\n",
    "with open(\"imputation\",\"wb\") as f :\n",
    "    pickle.dump(f_mean,f)\n",
    "\n",
    "resp_cols = ['resp_1', 'resp_2', 'resp_3', 'resp', 'resp_4']\n",
    "\n",
    "X_train = train.loc[:, features]\n",
    "#y_train = (train.loc[:, 'action'])\n",
    "\n",
    "y_train = np.stack([(train[c] > 0).astype('int') for c in resp_cols]).T"
   ]
  },
  {
   "cell_type": "markdown",
   "metadata": {
    "papermill": {
     "duration": 0.011258,
     "end_time": "2021-02-13T17:12:29.043195",
     "exception": false,
     "start_time": "2021-02-13T17:12:29.031937",
     "status": "completed"
    },
    "tags": []
   },
   "source": [
    "# multimodel"
   ]
  },
  {
   "cell_type": "code",
   "execution_count": 9,
   "metadata": {
    "execution": {
     "iopub.execute_input": "2021-02-13T17:12:29.079858Z",
     "iopub.status.busy": "2021-02-13T17:12:29.079123Z",
     "iopub.status.idle": "2021-02-13T18:04:35.758171Z",
     "shell.execute_reply": "2021-02-13T18:04:35.758850Z"
    },
    "papermill": {
     "duration": 3126.700806,
     "end_time": "2021-02-13T18:04:35.759180",
     "exception": false,
     "start_time": "2021-02-13T17:12:29.058374",
     "status": "completed"
    },
    "tags": []
   },
   "outputs": [
    {
     "name": "stderr",
     "output_type": "stream",
     "text": [
      "  0%|          | 0/5 [00:00<?, ?it/s]"
     ]
    },
    {
     "name": "stdout",
     "output_type": "stream",
     "text": [
      "[LightGBM] [Info] Number of positive: 634178, number of negative: 622954\n",
      "[LightGBM] [Warning] Auto-choosing col-wise multi-threading, the overhead of testing was 0.785402 seconds.\n",
      "You can set `force_col_wise=true` to remove the overhead.\n",
      "[LightGBM] [Info] Total Bins 45450\n",
      "[LightGBM] [Info] Number of data points in the train set: 1257132, number of used features: 101\n",
      "[LightGBM] [Info] [binary:BoostFromScore]: pavg=0.504464 -> initscore=0.017857\n",
      "[LightGBM] [Info] Start training from score 0.017857\n",
      "Training until validation scores don't improve for 50 rounds\n",
      "[50]\ttraining's auc: 0.619652\tvalid_1's auc: 0.585666\n",
      "[100]\ttraining's auc: 0.649792\tvalid_1's auc: 0.59848\n",
      "[150]\ttraining's auc: 0.672489\tvalid_1's auc: 0.603955\n",
      "[200]\ttraining's auc: 0.692672\tvalid_1's auc: 0.60645\n",
      "[250]\ttraining's auc: 0.712043\tvalid_1's auc: 0.608578\n",
      "[300]\ttraining's auc: 0.729683\tvalid_1's auc: 0.61016\n",
      "[350]\ttraining's auc: 0.745812\tvalid_1's auc: 0.612117\n",
      "[400]\ttraining's auc: 0.760207\tvalid_1's auc: 0.613896\n",
      "[450]\ttraining's auc: 0.774691\tvalid_1's auc: 0.615336\n",
      "[500]\ttraining's auc: 0.787612\tvalid_1's auc: 0.616121\n",
      "[550]\ttraining's auc: 0.800078\tvalid_1's auc: 0.616945\n",
      "[600]\ttraining's auc: 0.812202\tvalid_1's auc: 0.617742\n",
      "[650]\ttraining's auc: 0.823428\tvalid_1's auc: 0.618402\n",
      "[700]\ttraining's auc: 0.833947\tvalid_1's auc: 0.618821\n",
      "[750]\ttraining's auc: 0.843933\tvalid_1's auc: 0.619857\n",
      "[800]\ttraining's auc: 0.852579\tvalid_1's auc: 0.620498\n",
      "[850]\ttraining's auc: 0.860943\tvalid_1's auc: 0.621148\n",
      "[900]\ttraining's auc: 0.86866\tvalid_1's auc: 0.621626\n",
      "[950]\ttraining's auc: 0.875528\tvalid_1's auc: 0.622418\n",
      "[1000]\ttraining's auc: 0.882378\tvalid_1's auc: 0.6226\n",
      "[1050]\ttraining's auc: 0.889179\tvalid_1's auc: 0.623124\n",
      "[1100]\ttraining's auc: 0.895613\tvalid_1's auc: 0.623589\n",
      "[1150]\ttraining's auc: 0.901139\tvalid_1's auc: 0.623983\n",
      "[1200]\ttraining's auc: 0.906145\tvalid_1's auc: 0.624475\n",
      "[1250]\ttraining's auc: 0.911318\tvalid_1's auc: 0.624792\n",
      "[1300]\ttraining's auc: 0.916674\tvalid_1's auc: 0.62509\n",
      "[1350]\ttraining's auc: 0.921451\tvalid_1's auc: 0.625236\n",
      "[1400]\ttraining's auc: 0.926202\tvalid_1's auc: 0.625924\n",
      "[1450]\ttraining's auc: 0.930741\tvalid_1's auc: 0.626315\n",
      "[1500]\ttraining's auc: 0.934538\tvalid_1's auc: 0.626684\n",
      "Did not meet early stopping. Best iteration is:\n",
      "[1500]\ttraining's auc: 0.934538\tvalid_1's auc: 0.626684\n"
     ]
    },
    {
     "name": "stderr",
     "output_type": "stream",
     "text": [
      " 20%|██        | 1/5 [10:56<43:44, 656.11s/it]"
     ]
    },
    {
     "name": "stdout",
     "output_type": "stream",
     "text": [
      "[LightGBM] [Info] Number of positive: 636450, number of negative: 620682\n",
      "[LightGBM] [Warning] Auto-choosing col-wise multi-threading, the overhead of testing was 0.760073 seconds.\n",
      "You can set `force_col_wise=true` to remove the overhead.\n",
      "[LightGBM] [Info] Total Bins 45450\n",
      "[LightGBM] [Info] Number of data points in the train set: 1257132, number of used features: 101\n",
      "[LightGBM] [Info] [binary:BoostFromScore]: pavg=0.506271 -> initscore=0.025087\n",
      "[LightGBM] [Info] Start training from score 0.025087\n",
      "Training until validation scores don't improve for 50 rounds\n",
      "[50]\ttraining's auc: 0.615277\tvalid_1's auc: 0.578221\n",
      "[100]\ttraining's auc: 0.648773\tvalid_1's auc: 0.593661\n",
      "[150]\ttraining's auc: 0.675229\tvalid_1's auc: 0.600883\n",
      "[200]\ttraining's auc: 0.697686\tvalid_1's auc: 0.606715\n",
      "[250]\ttraining's auc: 0.718143\tvalid_1's auc: 0.609972\n",
      "[300]\ttraining's auc: 0.7388\tvalid_1's auc: 0.613239\n",
      "[350]\ttraining's auc: 0.75481\tvalid_1's auc: 0.615215\n",
      "[400]\ttraining's auc: 0.77092\tvalid_1's auc: 0.617561\n",
      "[450]\ttraining's auc: 0.784644\tvalid_1's auc: 0.619392\n",
      "[500]\ttraining's auc: 0.799092\tvalid_1's auc: 0.62073\n",
      "[550]\ttraining's auc: 0.812798\tvalid_1's auc: 0.622044\n",
      "[600]\ttraining's auc: 0.824798\tvalid_1's auc: 0.62321\n",
      "[650]\ttraining's auc: 0.836753\tvalid_1's auc: 0.623691\n",
      "[700]\ttraining's auc: 0.847916\tvalid_1's auc: 0.624801\n",
      "[750]\ttraining's auc: 0.857197\tvalid_1's auc: 0.625851\n",
      "[800]\ttraining's auc: 0.866323\tvalid_1's auc: 0.626792\n",
      "[850]\ttraining's auc: 0.875179\tvalid_1's auc: 0.627026\n",
      "[900]\ttraining's auc: 0.883287\tvalid_1's auc: 0.627578\n",
      "[950]\ttraining's auc: 0.891428\tvalid_1's auc: 0.628141\n",
      "[1000]\ttraining's auc: 0.898465\tvalid_1's auc: 0.629028\n",
      "[1050]\ttraining's auc: 0.905272\tvalid_1's auc: 0.629715\n",
      "[1100]\ttraining's auc: 0.911734\tvalid_1's auc: 0.629993\n",
      "[1150]\ttraining's auc: 0.917399\tvalid_1's auc: 0.63058\n",
      "[1200]\ttraining's auc: 0.923089\tvalid_1's auc: 0.630944\n",
      "[1250]\ttraining's auc: 0.92796\tvalid_1's auc: 0.631532\n",
      "[1300]\ttraining's auc: 0.93258\tvalid_1's auc: 0.632061\n",
      "[1350]\ttraining's auc: 0.937397\tvalid_1's auc: 0.632165\n",
      "[1400]\ttraining's auc: 0.941199\tvalid_1's auc: 0.632301\n",
      "[1450]\ttraining's auc: 0.944999\tvalid_1's auc: 0.633157\n",
      "[1500]\ttraining's auc: 0.948651\tvalid_1's auc: 0.633678\n",
      "Did not meet early stopping. Best iteration is:\n",
      "[1500]\ttraining's auc: 0.948651\tvalid_1's auc: 0.633678\n"
     ]
    },
    {
     "name": "stderr",
     "output_type": "stream",
     "text": [
      " 40%|████      | 2/5 [21:29<32:07, 642.47s/it]"
     ]
    },
    {
     "name": "stdout",
     "output_type": "stream",
     "text": [
      "[LightGBM] [Info] Number of positive: 635310, number of negative: 621822\n",
      "[LightGBM] [Warning] Auto-choosing col-wise multi-threading, the overhead of testing was 0.795185 seconds.\n",
      "You can set `force_col_wise=true` to remove the overhead.\n",
      "[LightGBM] [Info] Total Bins 45450\n",
      "[LightGBM] [Info] Number of data points in the train set: 1257132, number of used features: 101\n",
      "[LightGBM] [Info] [binary:BoostFromScore]: pavg=0.505365 -> initscore=0.021459\n",
      "[LightGBM] [Info] Start training from score 0.021459\n",
      "Training until validation scores don't improve for 50 rounds\n",
      "[50]\ttraining's auc: 0.628247\tvalid_1's auc: 0.587579\n",
      "[100]\ttraining's auc: 0.670772\tvalid_1's auc: 0.612834\n",
      "[150]\ttraining's auc: 0.704311\tvalid_1's auc: 0.627263\n",
      "[200]\ttraining's auc: 0.731849\tvalid_1's auc: 0.635922\n",
      "[250]\ttraining's auc: 0.756227\tvalid_1's auc: 0.642109\n",
      "[300]\ttraining's auc: 0.778135\tvalid_1's auc: 0.648001\n",
      "[350]\ttraining's auc: 0.796114\tvalid_1's auc: 0.652376\n",
      "[400]\ttraining's auc: 0.811842\tvalid_1's auc: 0.655739\n",
      "[450]\ttraining's auc: 0.827824\tvalid_1's auc: 0.658932\n",
      "[500]\ttraining's auc: 0.841605\tvalid_1's auc: 0.660214\n",
      "[550]\ttraining's auc: 0.853587\tvalid_1's auc: 0.661216\n",
      "[600]\ttraining's auc: 0.864427\tvalid_1's auc: 0.663814\n",
      "[650]\ttraining's auc: 0.875205\tvalid_1's auc: 0.666669\n",
      "[700]\ttraining's auc: 0.886312\tvalid_1's auc: 0.668019\n",
      "[750]\ttraining's auc: 0.89446\tvalid_1's auc: 0.670099\n",
      "[800]\ttraining's auc: 0.903642\tvalid_1's auc: 0.670341\n",
      "[850]\ttraining's auc: 0.91117\tvalid_1's auc: 0.672076\n",
      "[900]\ttraining's auc: 0.918158\tvalid_1's auc: 0.674225\n",
      "[950]\ttraining's auc: 0.924615\tvalid_1's auc: 0.675965\n",
      "[1000]\ttraining's auc: 0.929731\tvalid_1's auc: 0.677516\n",
      "[1050]\ttraining's auc: 0.934924\tvalid_1's auc: 0.678628\n",
      "[1100]\ttraining's auc: 0.940262\tvalid_1's auc: 0.68006\n",
      "[1150]\ttraining's auc: 0.944862\tvalid_1's auc: 0.68197\n",
      "[1200]\ttraining's auc: 0.9493\tvalid_1's auc: 0.683081\n",
      "[1250]\ttraining's auc: 0.952857\tvalid_1's auc: 0.684665\n",
      "[1300]\ttraining's auc: 0.95635\tvalid_1's auc: 0.685013\n",
      "[1350]\ttraining's auc: 0.959725\tvalid_1's auc: 0.685758\n",
      "[1400]\ttraining's auc: 0.962594\tvalid_1's auc: 0.68617\n",
      "[1450]\ttraining's auc: 0.965155\tvalid_1's auc: 0.687151\n",
      "[1500]\ttraining's auc: 0.967565\tvalid_1's auc: 0.687959\n",
      "Did not meet early stopping. Best iteration is:\n",
      "[1500]\ttraining's auc: 0.967565\tvalid_1's auc: 0.687959\n"
     ]
    },
    {
     "name": "stderr",
     "output_type": "stream",
     "text": [
      " 60%|██████    | 3/5 [32:02<21:16, 638.18s/it]"
     ]
    },
    {
     "name": "stdout",
     "output_type": "stream",
     "text": [
      "[LightGBM] [Info] Number of positive: 631460, number of negative: 625672\n",
      "[LightGBM] [Warning] Auto-choosing col-wise multi-threading, the overhead of testing was 0.926924 seconds.\n",
      "You can set `force_col_wise=true` to remove the overhead.\n",
      "[LightGBM] [Info] Total Bins 45450\n",
      "[LightGBM] [Info] Number of data points in the train set: 1257132, number of used features: 101\n",
      "[LightGBM] [Info] [binary:BoostFromScore]: pavg=0.502302 -> initscore=0.009208\n",
      "[LightGBM] [Info] Start training from score 0.009208\n",
      "Training until validation scores don't improve for 50 rounds\n",
      "[50]\ttraining's auc: 0.637307\tvalid_1's auc: 0.605131\n",
      "[100]\ttraining's auc: 0.682137\tvalid_1's auc: 0.630011\n",
      "[150]\ttraining's auc: 0.716355\tvalid_1's auc: 0.644116\n",
      "[200]\ttraining's auc: 0.745205\tvalid_1's auc: 0.650989\n",
      "[250]\ttraining's auc: 0.770642\tvalid_1's auc: 0.659239\n",
      "[300]\ttraining's auc: 0.793221\tvalid_1's auc: 0.664381\n",
      "[350]\ttraining's auc: 0.812899\tvalid_1's auc: 0.668416\n",
      "[400]\ttraining's auc: 0.829237\tvalid_1's auc: 0.671315\n",
      "[450]\ttraining's auc: 0.845193\tvalid_1's auc: 0.675792\n",
      "[500]\ttraining's auc: 0.860262\tvalid_1's auc: 0.678721\n",
      "[550]\ttraining's auc: 0.873957\tvalid_1's auc: 0.681306\n",
      "[600]\ttraining's auc: 0.885697\tvalid_1's auc: 0.683057\n",
      "[650]\ttraining's auc: 0.895495\tvalid_1's auc: 0.68643\n",
      "[700]\ttraining's auc: 0.904164\tvalid_1's auc: 0.689468\n",
      "[750]\ttraining's auc: 0.912704\tvalid_1's auc: 0.692375\n",
      "[800]\ttraining's auc: 0.92008\tvalid_1's auc: 0.694026\n",
      "[850]\ttraining's auc: 0.926384\tvalid_1's auc: 0.696263\n",
      "[900]\ttraining's auc: 0.933062\tvalid_1's auc: 0.698442\n",
      "[950]\ttraining's auc: 0.93862\tvalid_1's auc: 0.699232\n",
      "[1000]\ttraining's auc: 0.944938\tvalid_1's auc: 0.70255\n",
      "[1050]\ttraining's auc: 0.950013\tvalid_1's auc: 0.703753\n",
      "[1100]\ttraining's auc: 0.9545\tvalid_1's auc: 0.705001\n",
      "[1150]\ttraining's auc: 0.958495\tvalid_1's auc: 0.705638\n",
      "[1200]\ttraining's auc: 0.9619\tvalid_1's auc: 0.706804\n",
      "[1250]\ttraining's auc: 0.96536\tvalid_1's auc: 0.70724\n",
      "[1300]\ttraining's auc: 0.968348\tvalid_1's auc: 0.708377\n",
      "[1350]\ttraining's auc: 0.971132\tvalid_1's auc: 0.708978\n",
      "[1400]\ttraining's auc: 0.973704\tvalid_1's auc: 0.710294\n",
      "[1450]\ttraining's auc: 0.976041\tvalid_1's auc: 0.711056\n",
      "[1500]\ttraining's auc: 0.978024\tvalid_1's auc: 0.711802\n",
      "Did not meet early stopping. Best iteration is:\n",
      "[1500]\ttraining's auc: 0.978024\tvalid_1's auc: 0.711802\n"
     ]
    },
    {
     "name": "stderr",
     "output_type": "stream",
     "text": [
      " 80%|████████  | 4/5 [42:01<10:22, 622.94s/it]"
     ]
    },
    {
     "name": "stdout",
     "output_type": "stream",
     "text": [
      "[LightGBM] [Info] Number of positive: 631877, number of negative: 625255\n",
      "[LightGBM] [Warning] Auto-choosing col-wise multi-threading, the overhead of testing was 0.788870 seconds.\n",
      "You can set `force_col_wise=true` to remove the overhead.\n",
      "[LightGBM] [Info] Total Bins 45450\n",
      "[LightGBM] [Info] Number of data points in the train set: 1257132, number of used features: 101\n",
      "[LightGBM] [Info] [binary:BoostFromScore]: pavg=0.502634 -> initscore=0.010535\n",
      "[LightGBM] [Info] Start training from score 0.010535\n",
      "Training until validation scores don't improve for 50 rounds\n",
      "[50]\ttraining's auc: 0.648785\tvalid_1's auc: 0.616519\n",
      "[100]\ttraining's auc: 0.696328\tvalid_1's auc: 0.642136\n",
      "[150]\ttraining's auc: 0.731134\tvalid_1's auc: 0.655362\n",
      "[200]\ttraining's auc: 0.761306\tvalid_1's auc: 0.666646\n",
      "[250]\ttraining's auc: 0.784247\tvalid_1's auc: 0.672545\n",
      "[300]\ttraining's auc: 0.804519\tvalid_1's auc: 0.677756\n",
      "[350]\ttraining's auc: 0.822453\tvalid_1's auc: 0.684548\n",
      "[400]\ttraining's auc: 0.839964\tvalid_1's auc: 0.690749\n",
      "[450]\ttraining's auc: 0.855771\tvalid_1's auc: 0.694241\n",
      "[500]\ttraining's auc: 0.869945\tvalid_1's auc: 0.697113\n",
      "[550]\ttraining's auc: 0.881897\tvalid_1's auc: 0.701413\n",
      "[600]\ttraining's auc: 0.892742\tvalid_1's auc: 0.704601\n",
      "[650]\ttraining's auc: 0.901509\tvalid_1's auc: 0.706728\n",
      "[700]\ttraining's auc: 0.909568\tvalid_1's auc: 0.710139\n",
      "[750]\ttraining's auc: 0.917603\tvalid_1's auc: 0.712942\n",
      "[800]\ttraining's auc: 0.925241\tvalid_1's auc: 0.71347\n",
      "[850]\ttraining's auc: 0.931725\tvalid_1's auc: 0.714817\n",
      "[900]\ttraining's auc: 0.937743\tvalid_1's auc: 0.716476\n",
      "[950]\ttraining's auc: 0.943718\tvalid_1's auc: 0.717876\n",
      "[1000]\ttraining's auc: 0.948499\tvalid_1's auc: 0.718939\n",
      "[1050]\ttraining's auc: 0.952475\tvalid_1's auc: 0.721345\n",
      "[1100]\ttraining's auc: 0.956773\tvalid_1's auc: 0.721946\n",
      "[1150]\ttraining's auc: 0.960533\tvalid_1's auc: 0.723679\n",
      "[1200]\ttraining's auc: 0.963887\tvalid_1's auc: 0.726116\n",
      "[1250]\ttraining's auc: 0.967052\tvalid_1's auc: 0.727351\n",
      "[1300]\ttraining's auc: 0.970014\tvalid_1's auc: 0.72861\n",
      "[1350]\ttraining's auc: 0.972644\tvalid_1's auc: 0.729749\n",
      "[1400]\ttraining's auc: 0.975182\tvalid_1's auc: 0.731605\n",
      "[1450]\ttraining's auc: 0.977266\tvalid_1's auc: 0.732423\n",
      "[1500]\ttraining's auc: 0.979025\tvalid_1's auc: 0.733485\n",
      "Did not meet early stopping. Best iteration is:\n",
      "[1500]\ttraining's auc: 0.979025\tvalid_1's auc: 0.733485\n"
     ]
    },
    {
     "name": "stderr",
     "output_type": "stream",
     "text": [
      "100%|██████████| 5/5 [52:06<00:00, 625.33s/it]\n"
     ]
    }
   ],
   "source": [
    "# modeling step \n",
    "params={\"num_leaves\":300,\n",
    "       \"max_bin\":450,\n",
    "       \"feature_fraction\":0.52,\n",
    "       \"bagging_fraction\":0.52,\n",
    "       \"objective\":\"binary\",\n",
    "       \"learning_rate\":0.05,\n",
    "       \"boosting_type\":\"gbdt\",\n",
    "       \"metric\":\"auc\"\n",
    "       }\n",
    "models = [] # list of model , we will train \n",
    "for i in tqdm(range(y_train.shape[1])):\n",
    "    xtr,xval,ytr,yval = train_test_split(X_train ,y_train[:,i],test_size=0.2,stratify=y_train[:,i])\n",
    "   \n",
    "    d_train = lgbm.Dataset(xtr,label=ytr)\n",
    "    d_eval = lgbm.Dataset(xval,label=yval,reference=d_train)\n",
    "    clf = lgbm.train(params,d_train,valid_sets=[d_train,d_eval],num_boost_round=1500,\\\n",
    "                    early_stopping_rounds=50,verbose_eval=50)\n",
    "    nom_fich = \"weights_target_\" + resp_cols[i]\n",
    "    clf.save_model(nom_fich)\n",
    "    models.append(clf)"
   ]
  },
  {
   "cell_type": "markdown",
   "metadata": {
    "papermill": {
     "duration": 0.069358,
     "end_time": "2021-02-13T18:04:35.894454",
     "exception": false,
     "start_time": "2021-02-13T18:04:35.825096",
     "status": "completed"
    },
    "tags": []
   },
   "source": [
    "# single_model"
   ]
  },
  {
   "cell_type": "code",
   "execution_count": 10,
   "metadata": {
    "execution": {
     "iopub.execute_input": "2021-02-13T18:04:36.034298Z",
     "iopub.status.busy": "2021-02-13T18:04:36.033501Z",
     "iopub.status.idle": "2021-02-13T18:04:40.686034Z",
     "shell.execute_reply": "2021-02-13T18:04:40.686858Z"
    },
    "papermill": {
     "duration": 4.725951,
     "end_time": "2021-02-13T18:04:40.687044",
     "exception": false,
     "start_time": "2021-02-13T18:04:35.961093",
     "status": "completed"
    },
    "tags": []
   },
   "outputs": [],
   "source": [
    "params={\"num_leaves\":300,\n",
    "       \"max_bin\":450,\n",
    "       \"feature_fraction\":0.52,\n",
    "       \"bagging_fraction\":0.52,\n",
    "       \"objective\":\"binary\",\n",
    "       \"learning_rate\":0.05,\n",
    "       \"boosting_type\":\"gbdt\",\n",
    "       \"metric\":\"auc\"\n",
    "       }\n",
    "sing_model = []\n",
    "for i in range(3):\n",
    "  \n",
    "    clf = lgbm.Booster(model_file=os.path.join(path,\"weights_{}\".format(i)))\n",
    "    sing_model.append(clf)"
   ]
  },
  {
   "cell_type": "code",
   "execution_count": 11,
   "metadata": {
    "execution": {
     "iopub.execute_input": "2021-02-13T18:04:40.819435Z",
     "iopub.status.busy": "2021-02-13T18:04:40.818821Z",
     "iopub.status.idle": "2021-02-13T18:09:53.408100Z",
     "shell.execute_reply": "2021-02-13T18:09:53.408945Z"
    },
    "papermill": {
     "duration": 312.65757,
     "end_time": "2021-02-13T18:09:53.409199",
     "exception": false,
     "start_time": "2021-02-13T18:04:40.751629",
     "status": "completed"
    },
    "tags": []
   },
   "outputs": [
    {
     "name": "stderr",
     "output_type": "stream",
     "text": [
      "15219it [05:12, 48.69it/s]\n"
     ]
    }
   ],
   "source": [
    "f = np.median\n",
    "th = 0.5000\n",
    "import janestreet\n",
    "env = janestreet.make_env()\n",
    "for (test_df, pred_df) in tqdm(env.iter_test()):\n",
    "    if test_df['weight'].item() > 0:\n",
    "        x_tt = test_df.loc[:, features].values\n",
    "        if np.isnan(x_tt.sum()):\n",
    "            x_tt = np.nan_to_num(x_tt) + np.isnan(x_tt) * f_mean\n",
    "        # multimodel\n",
    "        pred1 = np.mean(np.stack([model.predict(x_tt) for model in models]),axis=0).T\n",
    "        # single_model\n",
    "        pred2 = np.mean(np.stack([model.predict(x_tt) for model in sing_model]),axis=0)\n",
    "        \n",
    "        pred = 0.5 * pred1 + 0.5 * pred2\n",
    "        pred_df.action = np.where(pred >= th, 1, 0).astype(int)\n",
    "    else:\n",
    "        pred_df.action = 0\n",
    "    env.predict(pred_df)"
   ]
  }
 ],
 "metadata": {
  "kernelspec": {
   "display_name": "Python 3",
   "language": "python",
   "name": "python3"
  },
  "language_info": {
   "codemirror_mode": {
    "name": "ipython",
    "version": 3
   },
   "file_extension": ".py",
   "mimetype": "text/x-python",
   "name": "python",
   "nbconvert_exporter": "python",
   "pygments_lexer": "ipython3",
   "version": "3.7.9"
  },
  "papermill": {
   "default_parameters": {},
   "duration": 3646.437019,
   "end_time": "2021-02-13T18:09:55.985923",
   "environment_variables": {},
   "exception": null,
   "input_path": "__notebook__.ipynb",
   "output_path": "__notebook__.ipynb",
   "parameters": {},
   "start_time": "2021-02-13T17:09:09.548904",
   "version": "2.2.2"
  }
 },
 "nbformat": 4,
 "nbformat_minor": 4
}
